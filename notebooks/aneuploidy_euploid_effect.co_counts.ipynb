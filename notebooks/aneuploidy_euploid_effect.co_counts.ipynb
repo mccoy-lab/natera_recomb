{
 "cells": [
  {
   "cell_type": "code",
   "execution_count": 8,
   "id": "5a25980e-8985-40da-89dd-289805bf85e7",
   "metadata": {},
   "outputs": [],
   "source": [
    "library(data.table)\n",
    "library(tidyverse)\n",
    "library(lme4)\n",
    "library(performance)\n",
    "library(cowplot)\n",
    "library(emmeans)\n",
    "library(marginaleffects)\n",
    "library(pbapply)"
   ]
  },
  {
   "cell_type": "code",
   "execution_count": 9,
   "id": "7a1f2e74-6514-4ac7-8b5a-a0f091789029",
   "metadata": {},
   "outputs": [
    {
     "data": {
      "text/html": [
       "<table class=\"dataframe\">\n",
       "<caption>A data.table: 6 × 71</caption>\n",
       "<thead>\n",
       "\t<tr><th scope=col>chrom</th><th scope=col>uid</th><th scope=col>IID</th><th scope=col>nco</th><th scope=col>patient_age</th><th scope=col>egg_donor</th><th scope=col>sperm_donor</th><th scope=col>avg_pi0</th><th scope=col>avg_sigma</th><th scope=col>maternal_meiotic_aneuploidy</th><th scope=col>⋯</th><th scope=col>PC12</th><th scope=col>PC13</th><th scope=col>PC14</th><th scope=col>PC15</th><th scope=col>PC16</th><th scope=col>PC17</th><th scope=col>PC18</th><th scope=col>PC19</th><th scope=col>PC20</th><th scope=col>is_aneuploid_embryo</th></tr>\n",
       "\t<tr><th scope=col>&lt;chr&gt;</th><th scope=col>&lt;chr&gt;</th><th scope=col>&lt;chr&gt;</th><th scope=col>&lt;int&gt;</th><th scope=col>&lt;dbl&gt;</th><th scope=col>&lt;dbl&gt;</th><th scope=col>&lt;dbl&gt;</th><th scope=col>&lt;dbl&gt;</th><th scope=col>&lt;dbl&gt;</th><th scope=col>&lt;lgl&gt;</th><th scope=col>⋯</th><th scope=col>&lt;dbl&gt;</th><th scope=col>&lt;dbl&gt;</th><th scope=col>&lt;dbl&gt;</th><th scope=col>&lt;dbl&gt;</th><th scope=col>&lt;dbl&gt;</th><th scope=col>&lt;dbl&gt;</th><th scope=col>&lt;dbl&gt;</th><th scope=col>&lt;dbl&gt;</th><th scope=col>&lt;dbl&gt;</th><th scope=col>&lt;lgl&gt;</th></tr>\n",
       "</thead>\n",
       "<tbody>\n",
       "\t<tr><td>chr16</td><td>10005770025_R06C01+10005770025_R05C01+3999947101_R01C01</td><td>10005770025_R06C01</td><td>1</td><td>43.2411</td><td>0</td><td>0</td><td>0.5239479</td><td>0.1781051</td><td>FALSE</td><td>⋯</td><td>0.000866399</td><td>0.00357098</td><td>-0.00764743</td><td>-0.00283709</td><td>-0.004159</td><td>0.00249129</td><td>0.00157069</td><td>-0.00210666</td><td>0.00270483</td><td>FALSE</td></tr>\n",
       "\t<tr><td>chr14</td><td>10005770025_R06C01+10005770025_R05C01+3999947101_R01C01</td><td>10005770025_R06C01</td><td>3</td><td>43.2411</td><td>0</td><td>0</td><td>0.5643161</td><td>0.1481064</td><td>FALSE</td><td>⋯</td><td>0.000866399</td><td>0.00357098</td><td>-0.00764743</td><td>-0.00283709</td><td>-0.004159</td><td>0.00249129</td><td>0.00157069</td><td>-0.00210666</td><td>0.00270483</td><td>FALSE</td></tr>\n",
       "\t<tr><td>chr22</td><td>10005770025_R06C01+10005770025_R05C01+3999947101_R01C01</td><td>10005770025_R06C01</td><td>1</td><td>43.2411</td><td>0</td><td>0</td><td>0.4764777</td><td>0.1941526</td><td>FALSE</td><td>⋯</td><td>0.000866399</td><td>0.00357098</td><td>-0.00764743</td><td>-0.00283709</td><td>-0.004159</td><td>0.00249129</td><td>0.00157069</td><td>-0.00210666</td><td>0.00270483</td><td>FALSE</td></tr>\n",
       "\t<tr><td>chr9 </td><td>10005770025_R06C01+10005770025_R05C01+3999947101_R01C01</td><td>10005770025_R06C01</td><td>1</td><td>43.2411</td><td>0</td><td>0</td><td>0.5952933</td><td>0.1581071</td><td>FALSE</td><td>⋯</td><td>0.000866399</td><td>0.00357098</td><td>-0.00764743</td><td>-0.00283709</td><td>-0.004159</td><td>0.00249129</td><td>0.00157069</td><td>-0.00210666</td><td>0.00270483</td><td>FALSE</td></tr>\n",
       "\t<tr><td>chr2 </td><td>10005770025_R06C01+10005770025_R05C01+3999947101_R01C01</td><td>10005770025_R06C01</td><td>2</td><td>43.2411</td><td>0</td><td>0</td><td>0.5877440</td><td>0.1399988</td><td>FALSE</td><td>⋯</td><td>0.000866399</td><td>0.00357098</td><td>-0.00764743</td><td>-0.00283709</td><td>-0.004159</td><td>0.00249129</td><td>0.00157069</td><td>-0.00210666</td><td>0.00270483</td><td>FALSE</td></tr>\n",
       "\t<tr><td>chr8 </td><td>10005770025_R06C01+10005770025_R05C01+3999947101_R01C01</td><td>10005770025_R06C01</td><td>2</td><td>43.2411</td><td>0</td><td>0</td><td>0.5958460</td><td>0.1407646</td><td>FALSE</td><td>⋯</td><td>0.000866399</td><td>0.00357098</td><td>-0.00764743</td><td>-0.00283709</td><td>-0.004159</td><td>0.00249129</td><td>0.00157069</td><td>-0.00210666</td><td>0.00270483</td><td>FALSE</td></tr>\n",
       "</tbody>\n",
       "</table>\n"
      ],
      "text/latex": [
       "A data.table: 6 × 71\n",
       "\\begin{tabular}{lllllllllllllllllllll}\n",
       " chrom & uid & IID & nco & patient\\_age & egg\\_donor & sperm\\_donor & avg\\_pi0 & avg\\_sigma & maternal\\_meiotic\\_aneuploidy & ⋯ & PC12 & PC13 & PC14 & PC15 & PC16 & PC17 & PC18 & PC19 & PC20 & is\\_aneuploid\\_embryo\\\\\n",
       " <chr> & <chr> & <chr> & <int> & <dbl> & <dbl> & <dbl> & <dbl> & <dbl> & <lgl> & ⋯ & <dbl> & <dbl> & <dbl> & <dbl> & <dbl> & <dbl> & <dbl> & <dbl> & <dbl> & <lgl>\\\\\n",
       "\\hline\n",
       "\t chr16 & 10005770025\\_R06C01+10005770025\\_R05C01+3999947101\\_R01C01 & 10005770025\\_R06C01 & 1 & 43.2411 & 0 & 0 & 0.5239479 & 0.1781051 & FALSE & ⋯ & 0.000866399 & 0.00357098 & -0.00764743 & -0.00283709 & -0.004159 & 0.00249129 & 0.00157069 & -0.00210666 & 0.00270483 & FALSE\\\\\n",
       "\t chr14 & 10005770025\\_R06C01+10005770025\\_R05C01+3999947101\\_R01C01 & 10005770025\\_R06C01 & 3 & 43.2411 & 0 & 0 & 0.5643161 & 0.1481064 & FALSE & ⋯ & 0.000866399 & 0.00357098 & -0.00764743 & -0.00283709 & -0.004159 & 0.00249129 & 0.00157069 & -0.00210666 & 0.00270483 & FALSE\\\\\n",
       "\t chr22 & 10005770025\\_R06C01+10005770025\\_R05C01+3999947101\\_R01C01 & 10005770025\\_R06C01 & 1 & 43.2411 & 0 & 0 & 0.4764777 & 0.1941526 & FALSE & ⋯ & 0.000866399 & 0.00357098 & -0.00764743 & -0.00283709 & -0.004159 & 0.00249129 & 0.00157069 & -0.00210666 & 0.00270483 & FALSE\\\\\n",
       "\t chr9  & 10005770025\\_R06C01+10005770025\\_R05C01+3999947101\\_R01C01 & 10005770025\\_R06C01 & 1 & 43.2411 & 0 & 0 & 0.5952933 & 0.1581071 & FALSE & ⋯ & 0.000866399 & 0.00357098 & -0.00764743 & -0.00283709 & -0.004159 & 0.00249129 & 0.00157069 & -0.00210666 & 0.00270483 & FALSE\\\\\n",
       "\t chr2  & 10005770025\\_R06C01+10005770025\\_R05C01+3999947101\\_R01C01 & 10005770025\\_R06C01 & 2 & 43.2411 & 0 & 0 & 0.5877440 & 0.1399988 & FALSE & ⋯ & 0.000866399 & 0.00357098 & -0.00764743 & -0.00283709 & -0.004159 & 0.00249129 & 0.00157069 & -0.00210666 & 0.00270483 & FALSE\\\\\n",
       "\t chr8  & 10005770025\\_R06C01+10005770025\\_R05C01+3999947101\\_R01C01 & 10005770025\\_R06C01 & 2 & 43.2411 & 0 & 0 & 0.5958460 & 0.1407646 & FALSE & ⋯ & 0.000866399 & 0.00357098 & -0.00764743 & -0.00283709 & -0.004159 & 0.00249129 & 0.00157069 & -0.00210666 & 0.00270483 & FALSE\\\\\n",
       "\\end{tabular}\n"
      ],
      "text/markdown": [
       "\n",
       "A data.table: 6 × 71\n",
       "\n",
       "| chrom &lt;chr&gt; | uid &lt;chr&gt; | IID &lt;chr&gt; | nco &lt;int&gt; | patient_age &lt;dbl&gt; | egg_donor &lt;dbl&gt; | sperm_donor &lt;dbl&gt; | avg_pi0 &lt;dbl&gt; | avg_sigma &lt;dbl&gt; | maternal_meiotic_aneuploidy &lt;lgl&gt; | ⋯ ⋯ | PC12 &lt;dbl&gt; | PC13 &lt;dbl&gt; | PC14 &lt;dbl&gt; | PC15 &lt;dbl&gt; | PC16 &lt;dbl&gt; | PC17 &lt;dbl&gt; | PC18 &lt;dbl&gt; | PC19 &lt;dbl&gt; | PC20 &lt;dbl&gt; | is_aneuploid_embryo &lt;lgl&gt; |\n",
       "|---|---|---|---|---|---|---|---|---|---|---|---|---|---|---|---|---|---|---|---|---|\n",
       "| chr16 | 10005770025_R06C01+10005770025_R05C01+3999947101_R01C01 | 10005770025_R06C01 | 1 | 43.2411 | 0 | 0 | 0.5239479 | 0.1781051 | FALSE | ⋯ | 0.000866399 | 0.00357098 | -0.00764743 | -0.00283709 | -0.004159 | 0.00249129 | 0.00157069 | -0.00210666 | 0.00270483 | FALSE |\n",
       "| chr14 | 10005770025_R06C01+10005770025_R05C01+3999947101_R01C01 | 10005770025_R06C01 | 3 | 43.2411 | 0 | 0 | 0.5643161 | 0.1481064 | FALSE | ⋯ | 0.000866399 | 0.00357098 | -0.00764743 | -0.00283709 | -0.004159 | 0.00249129 | 0.00157069 | -0.00210666 | 0.00270483 | FALSE |\n",
       "| chr22 | 10005770025_R06C01+10005770025_R05C01+3999947101_R01C01 | 10005770025_R06C01 | 1 | 43.2411 | 0 | 0 | 0.4764777 | 0.1941526 | FALSE | ⋯ | 0.000866399 | 0.00357098 | -0.00764743 | -0.00283709 | -0.004159 | 0.00249129 | 0.00157069 | -0.00210666 | 0.00270483 | FALSE |\n",
       "| chr9  | 10005770025_R06C01+10005770025_R05C01+3999947101_R01C01 | 10005770025_R06C01 | 1 | 43.2411 | 0 | 0 | 0.5952933 | 0.1581071 | FALSE | ⋯ | 0.000866399 | 0.00357098 | -0.00764743 | -0.00283709 | -0.004159 | 0.00249129 | 0.00157069 | -0.00210666 | 0.00270483 | FALSE |\n",
       "| chr2  | 10005770025_R06C01+10005770025_R05C01+3999947101_R01C01 | 10005770025_R06C01 | 2 | 43.2411 | 0 | 0 | 0.5877440 | 0.1399988 | FALSE | ⋯ | 0.000866399 | 0.00357098 | -0.00764743 | -0.00283709 | -0.004159 | 0.00249129 | 0.00157069 | -0.00210666 | 0.00270483 | FALSE |\n",
       "| chr8  | 10005770025_R06C01+10005770025_R05C01+3999947101_R01C01 | 10005770025_R06C01 | 2 | 43.2411 | 0 | 0 | 0.5958460 | 0.1407646 | FALSE | ⋯ | 0.000866399 | 0.00357098 | -0.00764743 | -0.00283709 | -0.004159 | 0.00249129 | 0.00157069 | -0.00210666 | 0.00270483 | FALSE |\n",
       "\n"
      ],
      "text/plain": [
       "  chrom uid                                                    \n",
       "1 chr16 10005770025_R06C01+10005770025_R05C01+3999947101_R01C01\n",
       "2 chr14 10005770025_R06C01+10005770025_R05C01+3999947101_R01C01\n",
       "3 chr22 10005770025_R06C01+10005770025_R05C01+3999947101_R01C01\n",
       "4 chr9  10005770025_R06C01+10005770025_R05C01+3999947101_R01C01\n",
       "5 chr2  10005770025_R06C01+10005770025_R05C01+3999947101_R01C01\n",
       "6 chr8  10005770025_R06C01+10005770025_R05C01+3999947101_R01C01\n",
       "  IID                nco patient_age egg_donor sperm_donor avg_pi0   avg_sigma\n",
       "1 10005770025_R06C01 1   43.2411     0         0           0.5239479 0.1781051\n",
       "2 10005770025_R06C01 3   43.2411     0         0           0.5643161 0.1481064\n",
       "3 10005770025_R06C01 1   43.2411     0         0           0.4764777 0.1941526\n",
       "4 10005770025_R06C01 1   43.2411     0         0           0.5952933 0.1581071\n",
       "5 10005770025_R06C01 2   43.2411     0         0           0.5877440 0.1399988\n",
       "6 10005770025_R06C01 2   43.2411     0         0           0.5958460 0.1407646\n",
       "  maternal_meiotic_aneuploidy ⋯ PC12        PC13       PC14        PC15       \n",
       "1 FALSE                       ⋯ 0.000866399 0.00357098 -0.00764743 -0.00283709\n",
       "2 FALSE                       ⋯ 0.000866399 0.00357098 -0.00764743 -0.00283709\n",
       "3 FALSE                       ⋯ 0.000866399 0.00357098 -0.00764743 -0.00283709\n",
       "4 FALSE                       ⋯ 0.000866399 0.00357098 -0.00764743 -0.00283709\n",
       "5 FALSE                       ⋯ 0.000866399 0.00357098 -0.00764743 -0.00283709\n",
       "6 FALSE                       ⋯ 0.000866399 0.00357098 -0.00764743 -0.00283709\n",
       "  PC16      PC17       PC18       PC19        PC20       is_aneuploid_embryo\n",
       "1 -0.004159 0.00249129 0.00157069 -0.00210666 0.00270483 FALSE              \n",
       "2 -0.004159 0.00249129 0.00157069 -0.00210666 0.00270483 FALSE              \n",
       "3 -0.004159 0.00249129 0.00157069 -0.00210666 0.00270483 FALSE              \n",
       "4 -0.004159 0.00249129 0.00157069 -0.00210666 0.00270483 FALSE              \n",
       "5 -0.004159 0.00249129 0.00157069 -0.00210666 0.00270483 FALSE              \n",
       "6 -0.004159 0.00249129 0.00157069 -0.00210666 0.00270483 FALSE              "
      ]
     },
     "metadata": {},
     "output_type": "display_data"
    }
   ],
   "source": [
    "dt <- fread(\"../../natera_recomb/analysis/co_post_process/results/v30b_heuristic_90_nsib_qual.crossover_filt.deCode_haldorsson19.crossover_count.maternal.euploid.csv.gz\") %>%\n",
    "  .[, is_aneuploid_embryo := FALSE]\n",
    "\n",
    "dt2 <- fread(\"../../natera_recomb/analysis/co_post_process/results/v30b_heuristic_90_nsib_qual.crossover_filt.deCode_haldorsson19.crossover_count.maternal.aneuploid.csv.gz\") %>%\n",
    "  .[, is_aneuploid_embryo := TRUE]\n",
    "\n",
    "dt <- rbind(dt, dt2) %>%\n",
    "  .[bf_max_cat == \"2\"]\n",
    "\n",
    "dt[, AVGSIGMA := weighted.mean(sigma_baf, cM_len), by = uid]\n",
    "dt[, AVGPI0 := weighted.mean(pi0_baf, cM_len), by = uid]\n",
    "\n",
    "dt[egg_donor == 1, patient_age := as.numeric(25)]\n",
    "df <- dt %>% filter((egg_donor == 0) & (sperm_donor == 0))\n",
    "head(df)"
   ]
  },
  {
   "cell_type": "code",
   "execution_count": 10,
   "id": "5f460c2b-c83a-4942-ac98-d19a9e2736b9",
   "metadata": {},
   "outputs": [
    {
     "data": {
      "text/html": [
       "<table class=\"dataframe\">\n",
       "<caption>A tibble: 2 × 5</caption>\n",
       "<thead>\n",
       "\t<tr><th scope=col>maternal_meiotic_aneuploidy</th><th scope=col>avg</th><th scope=col>n</th><th scope=col>sd</th><th scope=col>se</th></tr>\n",
       "\t<tr><th scope=col>&lt;lgl&gt;</th><th scope=col>&lt;dbl&gt;</th><th scope=col>&lt;int&gt;</th><th scope=col>&lt;dbl&gt;</th><th scope=col>&lt;dbl&gt;</th></tr>\n",
       "</thead>\n",
       "<tbody>\n",
       "\t<tr><td>FALSE</td><td>2.228299</td><td>985240</td><td>1.700726</td><td>0.001713418</td></tr>\n",
       "\t<tr><td> TRUE</td><td>2.198947</td><td>503847</td><td>1.758620</td><td>0.002477551</td></tr>\n",
       "</tbody>\n",
       "</table>\n"
      ],
      "text/latex": [
       "A tibble: 2 × 5\n",
       "\\begin{tabular}{lllll}\n",
       " maternal\\_meiotic\\_aneuploidy & avg & n & sd & se\\\\\n",
       " <lgl> & <dbl> & <int> & <dbl> & <dbl>\\\\\n",
       "\\hline\n",
       "\t FALSE & 2.228299 & 985240 & 1.700726 & 0.001713418\\\\\n",
       "\t  TRUE & 2.198947 & 503847 & 1.758620 & 0.002477551\\\\\n",
       "\\end{tabular}\n"
      ],
      "text/markdown": [
       "\n",
       "A tibble: 2 × 5\n",
       "\n",
       "| maternal_meiotic_aneuploidy &lt;lgl&gt; | avg &lt;dbl&gt; | n &lt;int&gt; | sd &lt;dbl&gt; | se &lt;dbl&gt; |\n",
       "|---|---|---|---|---|\n",
       "| FALSE | 2.228299 | 985240 | 1.700726 | 0.001713418 |\n",
       "|  TRUE | 2.198947 | 503847 | 1.758620 | 0.002477551 |\n",
       "\n"
      ],
      "text/plain": [
       "  maternal_meiotic_aneuploidy avg      n      sd       se         \n",
       "1 FALSE                       2.228299 985240 1.700726 0.001713418\n",
       "2  TRUE                       2.198947 503847 1.758620 0.002477551"
      ]
     },
     "metadata": {},
     "output_type": "display_data"
    }
   ],
   "source": [
    "# Just looking at the standard effect-direction \n",
    "df %>% group_by(maternal_meiotic_aneuploidy) %>% summarize(avg=mean(nco), n=n(), sd=sd(nco), se=sd/sqrt(n))"
   ]
  },
  {
   "cell_type": "code",
   "execution_count": 4,
   "id": "606308a7-46e5-45d3-93f5-cbf296c6a7a7",
   "metadata": {},
   "outputs": [
    {
     "name": "stderr",
     "output_type": "stream",
     "text": [
      "\n",
      "Correlation matrix not shown by default, as p = 26 > 12.\n",
      "Use print(obj, correlation=TRUE)  or\n",
      "    vcov(obj)        if you need it\n",
      "\n",
      "\n"
     ]
    },
    {
     "data": {
      "text/plain": [
       "Generalized linear mixed model fit by maximum likelihood (Adaptive\n",
       "  Gauss-Hermite Quadrature, nAGQ = 0) [glmerMod]\n",
       " Family: poisson  ( log )\n",
       "Formula: nco ~ (1 | IID/uid) + scale(patient_age) + PC1 + PC2 + PC3 +  \n",
       "    PC4 + PC5 + PC6 + PC7 + PC8 + PC9 + PC10 + PC11 + PC12 +  \n",
       "    PC13 + PC14 + PC15 + PC16 + PC17 + PC18 + PC19 + PC20 + offset(log(cM_len)) +  \n",
       "    scale(AVGSIGMA) + scale(AVGPI0) + scale(NEMBRYO) + maternal_meiotic_aneuploidy\n",
       "   Data: df\n",
       "Control: glmerControl(optimizer = \"bobyqa\")\n",
       "\n",
       "     AIC      BIC   logLik deviance df.resid \n",
       " 5197247  5197589 -2598596  5197191  1489059 \n",
       "\n",
       "Scaled residuals: \n",
       "    Min      1Q  Median      3Q     Max \n",
       "-3.5217 -0.7021 -0.1072  0.5232 17.1537 \n",
       "\n",
       "Random effects:\n",
       " Groups  Name        Variance Std.Dev.\n",
       " uid:IID (Intercept) 0.01908  0.1381  \n",
       " IID     (Intercept) 0.02340  0.1530  \n",
       "Number of obs: 1489087, groups:  uid:IID, 70538; IID, 13326\n",
       "\n",
       "Fixed effects:\n",
       "                                  Estimate Std. Error   z value Pr(>|z|)    \n",
       "(Intercept)                     -4.241e+00  1.789e-03 -2370.128  < 2e-16 ***\n",
       "scale(patient_age)              -2.624e-05  1.688e-03    -0.016 0.987595    \n",
       "PC1                             -1.014e+01  3.494e-01   -29.038  < 2e-16 ***\n",
       "PC2                             -6.023e+00  3.541e-01   -17.009  < 2e-16 ***\n",
       "PC3                             -1.956e+00  3.864e-01    -5.063 4.12e-07 ***\n",
       "PC4                             -5.624e+00  3.481e-01   -16.154  < 2e-16 ***\n",
       "PC5                              4.977e-01  3.340e-01     1.490 0.136271    \n",
       "PC6                             -3.025e-02  3.652e-01    -0.083 0.933983    \n",
       "PC7                             -4.164e-02  3.493e-01    -0.119 0.905123    \n",
       "PC8                             -4.397e+00  3.667e-01   -11.989  < 2e-16 ***\n",
       "PC9                             -6.688e+00  3.488e-01   -19.178  < 2e-16 ***\n",
       "PC10                             1.213e+00  3.540e-01     3.426 0.000613 ***\n",
       "PC11                             4.171e+00  3.639e-01    11.461  < 2e-16 ***\n",
       "PC12                            -1.128e+00  3.414e-01    -3.302 0.000958 ***\n",
       "PC13                            -7.889e-01  3.508e-01    -2.249 0.024515 *  \n",
       "PC14                             2.768e-01  3.535e-01     0.783 0.433651    \n",
       "PC15                            -1.902e-01  3.478e-01    -0.547 0.584483    \n",
       "PC16                            -4.811e-01  3.815e-01    -1.261 0.207203    \n",
       "PC17                             7.014e-01  4.999e-01     1.403 0.160555    \n",
       "PC18                            -2.042e+00  1.085e+00    -1.883 0.059741 .  \n",
       "PC19                            -3.954e-01  3.492e-01    -1.132 0.257512    \n",
       "PC20                             9.682e-01  4.558e-01     2.124 0.033670 *  \n",
       "scale(AVGSIGMA)                  7.365e-03  9.611e-04     7.663 1.81e-14 ***\n",
       "scale(AVGPI0)                   -2.239e-02  1.258e-03   -17.801  < 2e-16 ***\n",
       "scale(NEMBRYO)                  -1.369e-02  2.128e-03    -6.432 1.26e-10 ***\n",
       "maternal_meiotic_aneuploidyTRUE -4.860e-02  1.863e-03   -26.091  < 2e-16 ***\n",
       "---\n",
       "Signif. codes:  0 ‘***’ 0.001 ‘**’ 0.01 ‘*’ 0.05 ‘.’ 0.1 ‘ ’ 1"
      ]
     },
     "metadata": {},
     "output_type": "display_data"
    }
   ],
   "source": [
    "# fit model\n",
    "m1 <- glmer(data = df, \n",
    "            formula = nco ~ (1 | IID / uid) + scale(patient_age) + PC1 + PC2 + PC3 + PC4 + PC5 + \n",
    "              PC6 + PC7 + PC8 + PC9 + PC10 + PC11 + PC12 + PC13 + PC14 + PC15 + PC16 + PC17 +\n",
    "              PC18 + PC19 + PC20 + offset(log(cM_len)) + scale(AVGSIGMA) + scale(AVGPI0) + scale(NEMBRYO) + maternal_meiotic_aneuploidy,\n",
    "            family = poisson,\n",
    "            nAGQ = 0,\n",
    "            control = glmerControl(optimizer = \"bobyqa\"))\n",
    "\n",
    "summary(m1)"
   ]
  },
  {
   "cell_type": "code",
   "execution_count": 5,
   "id": "4a2665c5-a15c-4e89-924f-4b6d9444d4c1",
   "metadata": {},
   "outputs": [
    {
     "data": {
      "text/plain": [
       " maternal_meiotic_aneuploidy  rate       SE  df asymp.LCL asymp.UCL\n",
       " FALSE                       2.217 0.003916 Inf     2.209     2.225\n",
       "  TRUE                       2.112 0.004471 Inf     2.103     2.121\n",
       "\n",
       "Confidence level used: 0.95 \n",
       "Intervals are back-transformed from the log scale "
      ]
     },
     "metadata": {},
     "output_type": "display_data"
    }
   ],
   "source": [
    "emmeans(m1, \"maternal_meiotic_aneuploidy\", type = \"response\")"
   ]
  },
  {
   "cell_type": "code",
   "execution_count": 6,
   "id": "7e5fe12b-8912-4231-8eb3-31c3c0f063e2",
   "metadata": {},
   "outputs": [],
   "source": [
    "# > emmeans(m1, \"is_aneuploid_embryo\", type = \"response\")\n",
    "#  is_aneuploid_embryo  rate       SE  df asymp.LCL asymp.UCL\n",
    "#  FALSE               2.239 0.003686 Inf     2.231     2.246\n",
    "#   TRUE               2.092 0.003920 Inf     2.085     2.100"
   ]
  },
  {
   "cell_type": "code",
   "execution_count": 7,
   "id": "489d29f2-65db-47c6-8233-9d1d9904e244",
   "metadata": {},
   "outputs": [
    {
     "data": {
      "text/html": [
       "<style>\n",
       ".dl-inline {width: auto; margin:0; padding: 0}\n",
       ".dl-inline>dt, .dl-inline>dd {float: none; width: auto; display: inline-block}\n",
       ".dl-inline>dt::after {content: \":\\0020\"; padding-right: .5ex}\n",
       ".dl-inline>dt:not(:first-of-type) {padding-left: .5ex}\n",
       "</style><dl class=dl-inline><dt>(Intercept)</dt><dd>0</dd><dt>scale(patient_age)</dt><dd>0.987595386748918</dd><dt>PC1</dt><dd>2.17206198191503e-185</dd><dt>PC2</dt><dd>7.07717064416931e-65</dd><dt>PC3</dt><dd>4.12427096484199e-07</dd><dt>PC4</dt><dd>1.06443351427047e-58</dd><dt>PC5</dt><dd>0.136271386393905</dd><dt>PC6</dt><dd>0.933982571489457</dd><dt>PC7</dt><dd>0.905123159634086</dd><dt>PC8</dt><dd>4.06129232722288e-33</dd><dt>PC9</dt><dd>5.70456216610145e-82</dd><dt>PC10</dt><dd>0.000612845255410823</dd><dt>PC11</dt><dd>2.07272678587673e-30</dd><dt>PC12</dt><dd>0.000958278297742691</dd><dt>PC13</dt><dd>0.0245147483735355</dd><dt>PC14</dt><dd>0.433651292467351</dd><dt>PC15</dt><dd>0.584483315370111</dd><dt>PC16</dt><dd>0.207203173638337</dd><dt>PC17</dt><dd>0.160554983744886</dd><dt>PC18</dt><dd>0.059741052196302</dd><dt>PC19</dt><dd>0.257512452378079</dd><dt>PC20</dt><dd>0.0336699518372666</dd><dt>scale(AVGSIGMA)</dt><dd>1.81419236259143e-14</dd><dt>scale(AVGPI0)</dt><dd>6.94150725166728e-71</dd><dt>scale(NEMBRYO)</dt><dd>1.26340449078444e-10</dd><dt>maternal_meiotic_aneuploidyTRUE</dt><dd>4.64530518485171e-150</dd></dl>\n"
      ],
      "text/latex": [
       "\\begin{description*}\n",
       "\\item[(Intercept)] 0\n",
       "\\item[scale(patient\\textbackslash{}\\_age)] 0.987595386748918\n",
       "\\item[PC1] 2.17206198191503e-185\n",
       "\\item[PC2] 7.07717064416931e-65\n",
       "\\item[PC3] 4.12427096484199e-07\n",
       "\\item[PC4] 1.06443351427047e-58\n",
       "\\item[PC5] 0.136271386393905\n",
       "\\item[PC6] 0.933982571489457\n",
       "\\item[PC7] 0.905123159634086\n",
       "\\item[PC8] 4.06129232722288e-33\n",
       "\\item[PC9] 5.70456216610145e-82\n",
       "\\item[PC10] 0.000612845255410823\n",
       "\\item[PC11] 2.07272678587673e-30\n",
       "\\item[PC12] 0.000958278297742691\n",
       "\\item[PC13] 0.0245147483735355\n",
       "\\item[PC14] 0.433651292467351\n",
       "\\item[PC15] 0.584483315370111\n",
       "\\item[PC16] 0.207203173638337\n",
       "\\item[PC17] 0.160554983744886\n",
       "\\item[PC18] 0.059741052196302\n",
       "\\item[PC19] 0.257512452378079\n",
       "\\item[PC20] 0.0336699518372666\n",
       "\\item[scale(AVGSIGMA)] 1.81419236259143e-14\n",
       "\\item[scale(AVGPI0)] 6.94150725166728e-71\n",
       "\\item[scale(NEMBRYO)] 1.26340449078444e-10\n",
       "\\item[maternal\\textbackslash{}\\_meiotic\\textbackslash{}\\_aneuploidyTRUE] 4.64530518485171e-150\n",
       "\\end{description*}\n"
      ],
      "text/markdown": [
       "(Intercept)\n",
       ":   0scale(patient_age)\n",
       ":   0.987595386748918PC1\n",
       ":   2.17206198191503e-185PC2\n",
       ":   7.07717064416931e-65PC3\n",
       ":   4.12427096484199e-07PC4\n",
       ":   1.06443351427047e-58PC5\n",
       ":   0.136271386393905PC6\n",
       ":   0.933982571489457PC7\n",
       ":   0.905123159634086PC8\n",
       ":   4.06129232722288e-33PC9\n",
       ":   5.70456216610145e-82PC10\n",
       ":   0.000612845255410823PC11\n",
       ":   2.07272678587673e-30PC12\n",
       ":   0.000958278297742691PC13\n",
       ":   0.0245147483735355PC14\n",
       ":   0.433651292467351PC15\n",
       ":   0.584483315370111PC16\n",
       ":   0.207203173638337PC17\n",
       ":   0.160554983744886PC18\n",
       ":   0.059741052196302PC19\n",
       ":   0.257512452378079PC20\n",
       ":   0.0336699518372666scale(AVGSIGMA)\n",
       ":   1.81419236259143e-14scale(AVGPI0)\n",
       ":   6.94150725166728e-71scale(NEMBRYO)\n",
       ":   1.26340449078444e-10maternal_meiotic_aneuploidyTRUE\n",
       ":   4.64530518485171e-150\n",
       "\n"
      ],
      "text/plain": [
       "                    (Intercept)              scale(patient_age) \n",
       "                   0.000000e+00                    9.875954e-01 \n",
       "                            PC1                             PC2 \n",
       "                  2.172062e-185                    7.077171e-65 \n",
       "                            PC3                             PC4 \n",
       "                   4.124271e-07                    1.064434e-58 \n",
       "                            PC5                             PC6 \n",
       "                   1.362714e-01                    9.339826e-01 \n",
       "                            PC7                             PC8 \n",
       "                   9.051232e-01                    4.061292e-33 \n",
       "                            PC9                            PC10 \n",
       "                   5.704562e-82                    6.128453e-04 \n",
       "                           PC11                            PC12 \n",
       "                   2.072727e-30                    9.582783e-04 \n",
       "                           PC13                            PC14 \n",
       "                   2.451475e-02                    4.336513e-01 \n",
       "                           PC15                            PC16 \n",
       "                   5.844833e-01                    2.072032e-01 \n",
       "                           PC17                            PC18 \n",
       "                   1.605550e-01                    5.974105e-02 \n",
       "                           PC19                            PC20 \n",
       "                   2.575125e-01                    3.366995e-02 \n",
       "                scale(AVGSIGMA)                   scale(AVGPI0) \n",
       "                   1.814192e-14                    6.941507e-71 \n",
       "                 scale(NEMBRYO) maternal_meiotic_aneuploidyTRUE \n",
       "                   1.263404e-10                   4.645305e-150 "
      ]
     },
     "metadata": {},
     "output_type": "display_data"
    }
   ],
   "source": [
    "summary(m1)$coefficients[,4]"
   ]
  },
  {
   "cell_type": "code",
   "execution_count": null,
   "id": "c58afc60-8955-42ac-a2c9-27c34c1800d5",
   "metadata": {},
   "outputs": [],
   "source": []
  }
 ],
 "metadata": {
  "kernelspec": {
   "display_name": "R",
   "language": "R",
   "name": "ir"
  },
  "language_info": {
   "codemirror_mode": "r",
   "file_extension": ".r",
   "mimetype": "text/x-r-source",
   "name": "R",
   "pygments_lexer": "r",
   "version": "4.4.1"
  }
 },
 "nbformat": 4,
 "nbformat_minor": 5
}
