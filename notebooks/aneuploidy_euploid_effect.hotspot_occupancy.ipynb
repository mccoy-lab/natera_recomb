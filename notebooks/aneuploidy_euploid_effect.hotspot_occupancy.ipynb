{
 "cells": [
  {
   "cell_type": "code",
   "execution_count": 1,
   "id": "5a25980e-8985-40da-89dd-289805bf85e7",
   "metadata": {},
   "outputs": [
    {
     "name": "stderr",
     "output_type": "stream",
     "text": [
      "── \u001b[1mAttaching core tidyverse packages\u001b[22m ────────────────────────────────────────────────────────────────────────────────── tidyverse 2.0.0 ──\n",
      "\u001b[32m✔\u001b[39m \u001b[34mdplyr    \u001b[39m 1.1.4     \u001b[32m✔\u001b[39m \u001b[34mreadr    \u001b[39m 2.1.5\n",
      "\u001b[32m✔\u001b[39m \u001b[34mforcats  \u001b[39m 1.0.0     \u001b[32m✔\u001b[39m \u001b[34mstringr  \u001b[39m 1.5.1\n",
      "\u001b[32m✔\u001b[39m \u001b[34mggplot2  \u001b[39m 3.5.1     \u001b[32m✔\u001b[39m \u001b[34mtibble   \u001b[39m 3.2.1\n",
      "\u001b[32m✔\u001b[39m \u001b[34mlubridate\u001b[39m 1.9.3     \u001b[32m✔\u001b[39m \u001b[34mtidyr    \u001b[39m 1.3.1\n",
      "\u001b[32m✔\u001b[39m \u001b[34mpurrr    \u001b[39m 1.0.2     \n",
      "── \u001b[1mConflicts\u001b[22m ──────────────────────────────────────────────────────────────────────────────────────────────────── tidyverse_conflicts() ──\n",
      "\u001b[31m✖\u001b[39m \u001b[34mdplyr\u001b[39m::\u001b[32mbetween()\u001b[39m     masks \u001b[34mdata.table\u001b[39m::between()\n",
      "\u001b[31m✖\u001b[39m \u001b[34mdplyr\u001b[39m::\u001b[32mfilter()\u001b[39m      masks \u001b[34mstats\u001b[39m::filter()\n",
      "\u001b[31m✖\u001b[39m \u001b[34mdplyr\u001b[39m::\u001b[32mfirst()\u001b[39m       masks \u001b[34mdata.table\u001b[39m::first()\n",
      "\u001b[31m✖\u001b[39m \u001b[34mlubridate\u001b[39m::\u001b[32mhour()\u001b[39m    masks \u001b[34mdata.table\u001b[39m::hour()\n",
      "\u001b[31m✖\u001b[39m \u001b[34mlubridate\u001b[39m::\u001b[32misoweek()\u001b[39m masks \u001b[34mdata.table\u001b[39m::isoweek()\n",
      "\u001b[31m✖\u001b[39m \u001b[34mdplyr\u001b[39m::\u001b[32mlag()\u001b[39m         masks \u001b[34mstats\u001b[39m::lag()\n",
      "\u001b[31m✖\u001b[39m \u001b[34mdplyr\u001b[39m::\u001b[32mlast()\u001b[39m        masks \u001b[34mdata.table\u001b[39m::last()\n",
      "\u001b[31m✖\u001b[39m \u001b[34mlubridate\u001b[39m::\u001b[32mmday()\u001b[39m    masks \u001b[34mdata.table\u001b[39m::mday()\n",
      "\u001b[31m✖\u001b[39m \u001b[34mlubridate\u001b[39m::\u001b[32mminute()\u001b[39m  masks \u001b[34mdata.table\u001b[39m::minute()\n",
      "\u001b[31m✖\u001b[39m \u001b[34mlubridate\u001b[39m::\u001b[32mmonth()\u001b[39m   masks \u001b[34mdata.table\u001b[39m::month()\n",
      "\u001b[31m✖\u001b[39m \u001b[34mlubridate\u001b[39m::\u001b[32mquarter()\u001b[39m masks \u001b[34mdata.table\u001b[39m::quarter()\n",
      "\u001b[31m✖\u001b[39m \u001b[34mlubridate\u001b[39m::\u001b[32msecond()\u001b[39m  masks \u001b[34mdata.table\u001b[39m::second()\n",
      "\u001b[31m✖\u001b[39m \u001b[34mpurrr\u001b[39m::\u001b[32mtranspose()\u001b[39m   masks \u001b[34mdata.table\u001b[39m::transpose()\n",
      "\u001b[31m✖\u001b[39m \u001b[34mlubridate\u001b[39m::\u001b[32mwday()\u001b[39m    masks \u001b[34mdata.table\u001b[39m::wday()\n",
      "\u001b[31m✖\u001b[39m \u001b[34mlubridate\u001b[39m::\u001b[32mweek()\u001b[39m    masks \u001b[34mdata.table\u001b[39m::week()\n",
      "\u001b[31m✖\u001b[39m \u001b[34mlubridate\u001b[39m::\u001b[32myday()\u001b[39m    masks \u001b[34mdata.table\u001b[39m::yday()\n",
      "\u001b[31m✖\u001b[39m \u001b[34mlubridate\u001b[39m::\u001b[32myear()\u001b[39m    masks \u001b[34mdata.table\u001b[39m::year()\n",
      "\u001b[36mℹ\u001b[39m Use the conflicted package (\u001b[3m\u001b[34m<http://conflicted.r-lib.org/>\u001b[39m\u001b[23m) to force all conflicts to become errors\n",
      "Loading required package: Matrix\n",
      "\n",
      "\n",
      "Attaching package: ‘Matrix’\n",
      "\n",
      "\n",
      "The following objects are masked from ‘package:tidyr’:\n",
      "\n",
      "    expand, pack, unpack\n",
      "\n",
      "\n",
      "\n",
      "Attaching package: ‘cowplot’\n",
      "\n",
      "\n",
      "The following object is masked from ‘package:lubridate’:\n",
      "\n",
      "    stamp\n",
      "\n",
      "\n",
      "Welcome to emmeans.\n",
      "Caution: You lose important information if you filter this package's results.\n",
      "See '? untidy'\n",
      "\n"
     ]
    }
   ],
   "source": [
    "library(data.table)\n",
    "library(tidyverse)\n",
    "library(lme4)\n",
    "library(performance)\n",
    "library(cowplot)\n",
    "library(emmeans)\n",
    "library(marginaleffects)\n",
    "library(pbapply)"
   ]
  },
  {
   "cell_type": "code",
   "execution_count": 2,
   "id": "7a1f2e74-6514-4ac7-8b5a-a0f091789029",
   "metadata": {},
   "outputs": [
    {
     "data": {
      "text/html": [
       "<table class=\"dataframe\">\n",
       "<caption>A data.table: 6 × 39</caption>\n",
       "<thead>\n",
       "\t<tr><th scope=col>uid</th><th scope=col>lower_95_alpha_mat</th><th scope=col>mean_alpha_mat</th><th scope=col>upper_95_alpha_mat</th><th scope=col>nco_pass_mat</th><th scope=col>nchrom</th><th scope=col>mother</th><th scope=col>father</th><th scope=col>child</th><th scope=col>euploid</th><th scope=col>⋯</th><th scope=col>PC12</th><th scope=col>PC13</th><th scope=col>PC14</th><th scope=col>PC15</th><th scope=col>PC16</th><th scope=col>PC17</th><th scope=col>PC18</th><th scope=col>PC19</th><th scope=col>PC20</th><th scope=col>is_aneuploid_embryo</th></tr>\n",
       "\t<tr><th scope=col>&lt;chr&gt;</th><th scope=col>&lt;dbl&gt;</th><th scope=col>&lt;dbl&gt;</th><th scope=col>&lt;dbl&gt;</th><th scope=col>&lt;int&gt;</th><th scope=col>&lt;int&gt;</th><th scope=col>&lt;chr&gt;</th><th scope=col>&lt;chr&gt;</th><th scope=col>&lt;chr&gt;</th><th scope=col>&lt;lgl&gt;</th><th scope=col>⋯</th><th scope=col>&lt;dbl&gt;</th><th scope=col>&lt;dbl&gt;</th><th scope=col>&lt;dbl&gt;</th><th scope=col>&lt;dbl&gt;</th><th scope=col>&lt;dbl&gt;</th><th scope=col>&lt;dbl&gt;</th><th scope=col>&lt;dbl&gt;</th><th scope=col>&lt;dbl&gt;</th><th scope=col>&lt;dbl&gt;</th><th scope=col>&lt;lgl&gt;</th></tr>\n",
       "</thead>\n",
       "<tbody>\n",
       "\t<tr><td>3999947049_R04C02+3999947049_R03C02+10013440035_R03C02     </td><td>0.2508366</td><td>0.43812721</td><td>0.6153844</td><td>48</td><td>18</td><td>3999947049_R04C02  </td><td>3999947049_R03C02  </td><td>10013440035_R03C02 </td><td>TRUE</td><td>⋯</td><td>-0.001504400</td><td>-0.003202090</td><td>-0.000751128</td><td> 0.00234529</td><td> 0.002164140</td><td> 0.005414180</td><td> 0.000328795</td><td>-0.00324049</td><td> 0.001168260</td><td>FALSE</td></tr>\n",
       "\t<tr><td>9402204156_R04C01+9402204156_R05C01+9997249137_R02C02      </td><td>0.1973250</td><td>0.43812721</td><td>0.6688960</td><td>25</td><td>17</td><td>9402204156_R04C01  </td><td>9402204156_R05C01  </td><td>9997249137_R02C02  </td><td>TRUE</td><td>⋯</td><td>-0.001095620</td><td> 0.002572000</td><td>-0.002592810</td><td> 0.00160076</td><td> 0.000139387</td><td> 0.005994390</td><td> 0.000235390</td><td>-0.00109851</td><td> 0.002663930</td><td>FALSE</td></tr>\n",
       "\t<tr><td>202701740047_R05C01+202701740047_R06C01+202701740034_R05C01</td><td>0.1204021</td><td>0.36120429</td><td>0.6053510</td><td>29</td><td>17</td><td>202701740047_R05C01</td><td>202701740047_R06C01</td><td>202701740034_R05C01</td><td>TRUE</td><td>⋯</td><td>-0.000479670</td><td> 0.003296430</td><td> 0.006107020</td><td>-0.00179910</td><td>-0.001394820</td><td> 0.000461605</td><td>-0.001074730</td><td> 0.00866010</td><td> 0.000778493</td><td>FALSE</td></tr>\n",
       "\t<tr><td>200693600062_R01C02+200693600062_R02C02+202010620100_R04C01</td><td>0.1337800</td><td>0.41806036</td><td>0.6822739</td><td>22</td><td>17</td><td>200693600062_R01C02</td><td>200693600062_R02C02</td><td>202010620100_R04C01</td><td>TRUE</td><td>⋯</td><td> 0.000632574</td><td> 0.003123270</td><td>-0.004525200</td><td> 0.00152565</td><td> 0.000489531</td><td> 0.002093700</td><td>-0.001285610</td><td> 0.01224150</td><td> 0.000634308</td><td>FALSE</td></tr>\n",
       "\t<tr><td>9446208058_R05C01+9446208058_R06C01+9992577049_R05C01      </td><td>0.0668905</td><td>0.28762584</td><td>0.5217391</td><td>31</td><td>17</td><td>9446208058_R05C01  </td><td>9446208058_R06C01  </td><td>9992577049_R05C01  </td><td>TRUE</td><td>⋯</td><td> 0.005335890</td><td>-0.003744260</td><td> 0.002361340</td><td>-0.00126484</td><td> 0.001746850</td><td>-0.003679830</td><td>-0.004563660</td><td>-0.00530411</td><td>-0.001815610</td><td>FALSE</td></tr>\n",
       "\t<tr><td>203962720020_R03C02+203962720020_R04C02+204568340046_R06C01</td><td>0.0000010</td><td>0.02341232</td><td>0.2140474</td><td>33</td><td>17</td><td>203962720020_R03C02</td><td>203962720020_R04C02</td><td>204568340046_R06C01</td><td>TRUE</td><td>⋯</td><td> 0.000268920</td><td>-0.000330688</td><td>-0.003791650</td><td> 0.00484152</td><td>-0.009473260</td><td>-0.002773430</td><td>-0.001690740</td><td>-0.00332615</td><td>-0.000658282</td><td>FALSE</td></tr>\n",
       "</tbody>\n",
       "</table>\n"
      ],
      "text/latex": [
       "A data.table: 6 × 39\n",
       "\\begin{tabular}{lllllllllllllllllllll}\n",
       " uid & lower\\_95\\_alpha\\_mat & mean\\_alpha\\_mat & upper\\_95\\_alpha\\_mat & nco\\_pass\\_mat & nchrom & mother & father & child & euploid & ⋯ & PC12 & PC13 & PC14 & PC15 & PC16 & PC17 & PC18 & PC19 & PC20 & is\\_aneuploid\\_embryo\\\\\n",
       " <chr> & <dbl> & <dbl> & <dbl> & <int> & <int> & <chr> & <chr> & <chr> & <lgl> & ⋯ & <dbl> & <dbl> & <dbl> & <dbl> & <dbl> & <dbl> & <dbl> & <dbl> & <dbl> & <lgl>\\\\\n",
       "\\hline\n",
       "\t 3999947049\\_R04C02+3999947049\\_R03C02+10013440035\\_R03C02      & 0.2508366 & 0.43812721 & 0.6153844 & 48 & 18 & 3999947049\\_R04C02   & 3999947049\\_R03C02   & 10013440035\\_R03C02  & TRUE & ⋯ & -0.001504400 & -0.003202090 & -0.000751128 &  0.00234529 &  0.002164140 &  0.005414180 &  0.000328795 & -0.00324049 &  0.001168260 & FALSE\\\\\n",
       "\t 9402204156\\_R04C01+9402204156\\_R05C01+9997249137\\_R02C02       & 0.1973250 & 0.43812721 & 0.6688960 & 25 & 17 & 9402204156\\_R04C01   & 9402204156\\_R05C01   & 9997249137\\_R02C02   & TRUE & ⋯ & -0.001095620 &  0.002572000 & -0.002592810 &  0.00160076 &  0.000139387 &  0.005994390 &  0.000235390 & -0.00109851 &  0.002663930 & FALSE\\\\\n",
       "\t 202701740047\\_R05C01+202701740047\\_R06C01+202701740034\\_R05C01 & 0.1204021 & 0.36120429 & 0.6053510 & 29 & 17 & 202701740047\\_R05C01 & 202701740047\\_R06C01 & 202701740034\\_R05C01 & TRUE & ⋯ & -0.000479670 &  0.003296430 &  0.006107020 & -0.00179910 & -0.001394820 &  0.000461605 & -0.001074730 &  0.00866010 &  0.000778493 & FALSE\\\\\n",
       "\t 200693600062\\_R01C02+200693600062\\_R02C02+202010620100\\_R04C01 & 0.1337800 & 0.41806036 & 0.6822739 & 22 & 17 & 200693600062\\_R01C02 & 200693600062\\_R02C02 & 202010620100\\_R04C01 & TRUE & ⋯ &  0.000632574 &  0.003123270 & -0.004525200 &  0.00152565 &  0.000489531 &  0.002093700 & -0.001285610 &  0.01224150 &  0.000634308 & FALSE\\\\\n",
       "\t 9446208058\\_R05C01+9446208058\\_R06C01+9992577049\\_R05C01       & 0.0668905 & 0.28762584 & 0.5217391 & 31 & 17 & 9446208058\\_R05C01   & 9446208058\\_R06C01   & 9992577049\\_R05C01   & TRUE & ⋯ &  0.005335890 & -0.003744260 &  0.002361340 & -0.00126484 &  0.001746850 & -0.003679830 & -0.004563660 & -0.00530411 & -0.001815610 & FALSE\\\\\n",
       "\t 203962720020\\_R03C02+203962720020\\_R04C02+204568340046\\_R06C01 & 0.0000010 & 0.02341232 & 0.2140474 & 33 & 17 & 203962720020\\_R03C02 & 203962720020\\_R04C02 & 204568340046\\_R06C01 & TRUE & ⋯ &  0.000268920 & -0.000330688 & -0.003791650 &  0.00484152 & -0.009473260 & -0.002773430 & -0.001690740 & -0.00332615 & -0.000658282 & FALSE\\\\\n",
       "\\end{tabular}\n"
      ],
      "text/markdown": [
       "\n",
       "A data.table: 6 × 39\n",
       "\n",
       "| uid &lt;chr&gt; | lower_95_alpha_mat &lt;dbl&gt; | mean_alpha_mat &lt;dbl&gt; | upper_95_alpha_mat &lt;dbl&gt; | nco_pass_mat &lt;int&gt; | nchrom &lt;int&gt; | mother &lt;chr&gt; | father &lt;chr&gt; | child &lt;chr&gt; | euploid &lt;lgl&gt; | ⋯ ⋯ | PC12 &lt;dbl&gt; | PC13 &lt;dbl&gt; | PC14 &lt;dbl&gt; | PC15 &lt;dbl&gt; | PC16 &lt;dbl&gt; | PC17 &lt;dbl&gt; | PC18 &lt;dbl&gt; | PC19 &lt;dbl&gt; | PC20 &lt;dbl&gt; | is_aneuploid_embryo &lt;lgl&gt; |\n",
       "|---|---|---|---|---|---|---|---|---|---|---|---|---|---|---|---|---|---|---|---|---|\n",
       "| 3999947049_R04C02+3999947049_R03C02+10013440035_R03C02      | 0.2508366 | 0.43812721 | 0.6153844 | 48 | 18 | 3999947049_R04C02   | 3999947049_R03C02   | 10013440035_R03C02  | TRUE | ⋯ | -0.001504400 | -0.003202090 | -0.000751128 |  0.00234529 |  0.002164140 |  0.005414180 |  0.000328795 | -0.00324049 |  0.001168260 | FALSE |\n",
       "| 9402204156_R04C01+9402204156_R05C01+9997249137_R02C02       | 0.1973250 | 0.43812721 | 0.6688960 | 25 | 17 | 9402204156_R04C01   | 9402204156_R05C01   | 9997249137_R02C02   | TRUE | ⋯ | -0.001095620 |  0.002572000 | -0.002592810 |  0.00160076 |  0.000139387 |  0.005994390 |  0.000235390 | -0.00109851 |  0.002663930 | FALSE |\n",
       "| 202701740047_R05C01+202701740047_R06C01+202701740034_R05C01 | 0.1204021 | 0.36120429 | 0.6053510 | 29 | 17 | 202701740047_R05C01 | 202701740047_R06C01 | 202701740034_R05C01 | TRUE | ⋯ | -0.000479670 |  0.003296430 |  0.006107020 | -0.00179910 | -0.001394820 |  0.000461605 | -0.001074730 |  0.00866010 |  0.000778493 | FALSE |\n",
       "| 200693600062_R01C02+200693600062_R02C02+202010620100_R04C01 | 0.1337800 | 0.41806036 | 0.6822739 | 22 | 17 | 200693600062_R01C02 | 200693600062_R02C02 | 202010620100_R04C01 | TRUE | ⋯ |  0.000632574 |  0.003123270 | -0.004525200 |  0.00152565 |  0.000489531 |  0.002093700 | -0.001285610 |  0.01224150 |  0.000634308 | FALSE |\n",
       "| 9446208058_R05C01+9446208058_R06C01+9992577049_R05C01       | 0.0668905 | 0.28762584 | 0.5217391 | 31 | 17 | 9446208058_R05C01   | 9446208058_R06C01   | 9992577049_R05C01   | TRUE | ⋯ |  0.005335890 | -0.003744260 |  0.002361340 | -0.00126484 |  0.001746850 | -0.003679830 | -0.004563660 | -0.00530411 | -0.001815610 | FALSE |\n",
       "| 203962720020_R03C02+203962720020_R04C02+204568340046_R06C01 | 0.0000010 | 0.02341232 | 0.2140474 | 33 | 17 | 203962720020_R03C02 | 203962720020_R04C02 | 204568340046_R06C01 | TRUE | ⋯ |  0.000268920 | -0.000330688 | -0.003791650 |  0.00484152 | -0.009473260 | -0.002773430 | -0.001690740 | -0.00332615 | -0.000658282 | FALSE |\n",
       "\n"
      ],
      "text/plain": [
       "  uid                                                        \n",
       "1 3999947049_R04C02+3999947049_R03C02+10013440035_R03C02     \n",
       "2 9402204156_R04C01+9402204156_R05C01+9997249137_R02C02      \n",
       "3 202701740047_R05C01+202701740047_R06C01+202701740034_R05C01\n",
       "4 200693600062_R01C02+200693600062_R02C02+202010620100_R04C01\n",
       "5 9446208058_R05C01+9446208058_R06C01+9992577049_R05C01      \n",
       "6 203962720020_R03C02+203962720020_R04C02+204568340046_R06C01\n",
       "  lower_95_alpha_mat mean_alpha_mat upper_95_alpha_mat nco_pass_mat nchrom\n",
       "1 0.2508366          0.43812721     0.6153844          48           18    \n",
       "2 0.1973250          0.43812721     0.6688960          25           17    \n",
       "3 0.1204021          0.36120429     0.6053510          29           17    \n",
       "4 0.1337800          0.41806036     0.6822739          22           17    \n",
       "5 0.0668905          0.28762584     0.5217391          31           17    \n",
       "6 0.0000010          0.02341232     0.2140474          33           17    \n",
       "  mother              father              child               euploid ⋯\n",
       "1 3999947049_R04C02   3999947049_R03C02   10013440035_R03C02  TRUE    ⋯\n",
       "2 9402204156_R04C01   9402204156_R05C01   9997249137_R02C02   TRUE    ⋯\n",
       "3 202701740047_R05C01 202701740047_R06C01 202701740034_R05C01 TRUE    ⋯\n",
       "4 200693600062_R01C02 200693600062_R02C02 202010620100_R04C01 TRUE    ⋯\n",
       "5 9446208058_R05C01   9446208058_R06C01   9992577049_R05C01   TRUE    ⋯\n",
       "6 203962720020_R03C02 203962720020_R04C02 204568340046_R06C01 TRUE    ⋯\n",
       "  PC12         PC13         PC14         PC15        PC16         PC17        \n",
       "1 -0.001504400 -0.003202090 -0.000751128  0.00234529  0.002164140  0.005414180\n",
       "2 -0.001095620  0.002572000 -0.002592810  0.00160076  0.000139387  0.005994390\n",
       "3 -0.000479670  0.003296430  0.006107020 -0.00179910 -0.001394820  0.000461605\n",
       "4  0.000632574  0.003123270 -0.004525200  0.00152565  0.000489531  0.002093700\n",
       "5  0.005335890 -0.003744260  0.002361340 -0.00126484  0.001746850 -0.003679830\n",
       "6  0.000268920 -0.000330688 -0.003791650  0.00484152 -0.009473260 -0.002773430\n",
       "  PC18         PC19        PC20         is_aneuploid_embryo\n",
       "1  0.000328795 -0.00324049  0.001168260 FALSE              \n",
       "2  0.000235390 -0.00109851  0.002663930 FALSE              \n",
       "3 -0.001074730  0.00866010  0.000778493 FALSE              \n",
       "4 -0.001285610  0.01224150  0.000634308 FALSE              \n",
       "5 -0.004563660 -0.00530411 -0.001815610 FALSE              \n",
       "6 -0.001690740 -0.00332615 -0.000658282 FALSE              "
      ]
     },
     "metadata": {},
     "output_type": "display_data"
    }
   ],
   "source": [
    "dt <- fread(\"../../natera_recomb/analysis/co_post_process/results/v30b_heuristic_90_nsib_qual.crossover_filt.deCode_haldorsson19.hotspot_occupy.maternal.euploid.csv.gz\") %>%\n",
    "  .[, is_aneuploid_embryo := FALSE]\n",
    "\n",
    "dt2 <- fread(\"../../natera_recomb/analysis/co_post_process/results/v30b_heuristic_90_nsib_qual.crossover_filt.deCode_haldorsson19.hotspot_occupy.maternal.aneuploid.csv.gz\") %>%\n",
    "  .[, is_aneuploid_embryo := TRUE]\n",
    "\n",
    "dt <- rbind(dt, dt2)\n",
    "\n",
    "# dt[, AVGSIGMA := weighted.mean(sigma_baf, cM_len), by = uid]\n",
    "# dt[, AVGPI0 := weighted.mean(pi0_baf, cM_len), by = uid]\n",
    "\n",
    "# dt[egg_donor == 1, patient_age := as.numeric(25)]\n",
    "\n",
    "# This just kind of filters out the zeros and 1s?\n",
    "df <- dt\n",
    "# df <- dt %>% filter((mean_alpha_mat > 1e-4)& (mean_alpha_mat < 0.999) )\n",
    "df <- df %>% filter(nchrom >= 17)\n",
    "head(df)"
   ]
  },
  {
   "cell_type": "code",
   "execution_count": 3,
   "id": "059fb7df-8063-41f2-8717-400d064b6e28",
   "metadata": {},
   "outputs": [
    {
     "data": {
      "text/html": [
       "<table class=\"dataframe\">\n",
       "<caption>A data.table: 6 × 39</caption>\n",
       "<thead>\n",
       "\t<tr><th scope=col>uid</th><th scope=col>lower_95_alpha_mat</th><th scope=col>mean_alpha_mat</th><th scope=col>upper_95_alpha_mat</th><th scope=col>nco_pass_mat</th><th scope=col>nchrom</th><th scope=col>mother</th><th scope=col>father</th><th scope=col>child</th><th scope=col>euploid</th><th scope=col>⋯</th><th scope=col>PC12</th><th scope=col>PC13</th><th scope=col>PC14</th><th scope=col>PC15</th><th scope=col>PC16</th><th scope=col>PC17</th><th scope=col>PC18</th><th scope=col>PC19</th><th scope=col>PC20</th><th scope=col>is_aneuploid_embryo</th></tr>\n",
       "\t<tr><th scope=col>&lt;chr&gt;</th><th scope=col>&lt;dbl&gt;</th><th scope=col>&lt;dbl&gt;</th><th scope=col>&lt;dbl&gt;</th><th scope=col>&lt;int&gt;</th><th scope=col>&lt;int&gt;</th><th scope=col>&lt;chr&gt;</th><th scope=col>&lt;chr&gt;</th><th scope=col>&lt;chr&gt;</th><th scope=col>&lt;lgl&gt;</th><th scope=col>⋯</th><th scope=col>&lt;dbl&gt;</th><th scope=col>&lt;dbl&gt;</th><th scope=col>&lt;dbl&gt;</th><th scope=col>&lt;dbl&gt;</th><th scope=col>&lt;dbl&gt;</th><th scope=col>&lt;dbl&gt;</th><th scope=col>&lt;dbl&gt;</th><th scope=col>&lt;dbl&gt;</th><th scope=col>&lt;dbl&gt;</th><th scope=col>&lt;lgl&gt;</th></tr>\n",
       "</thead>\n",
       "<tbody>\n",
       "\t<tr><td>3998633005_R02C01+3998633005_R01C01+100954520028_R06C02    </td><td>0.08026840</td><td>0.2374587</td><td>0.4180604</td><td>44</td><td>17</td><td>3998633005_R02C01  </td><td>3998633005_R01C01  </td><td>100954520028_R06C02</td><td>FALSE</td><td>⋯</td><td>-0.004949370</td><td> 0.000929288</td><td>-0.001464710</td><td>-0.008221480</td><td>-0.004456550</td><td>0.000401423</td><td> 0.002364590</td><td>-0.005465880</td><td>-4.33118e-03</td><td>TRUE</td></tr>\n",
       "\t<tr><td>101242990021_R04C01+101034430083_R03C01+200151560160_R03C01</td><td>0.13043552</td><td>0.3010037</td><td>0.4949833</td><td>37</td><td>17</td><td>101242990021_R04C01</td><td>101034430083_R03C01</td><td>200151560160_R03C01</td><td>FALSE</td><td>⋯</td><td> 0.002070450</td><td>-0.002240010</td><td>-0.002090190</td><td> 0.001140000</td><td> 0.002727360</td><td>0.006968590</td><td> 0.003143070</td><td>-0.000807731</td><td>-1.74894e-05</td><td>TRUE</td></tr>\n",
       "\t<tr><td>201672610194_R01C01+201672610194_R02C01+204572560004_R01C02</td><td>0.14715790</td><td>0.3979935</td><td>0.6454847</td><td>25</td><td>17</td><td>201672610194_R01C01</td><td>201672610194_R02C01</td><td>204572560004_R01C02</td><td>FALSE</td><td>⋯</td><td>-0.008397750</td><td>-0.015521900</td><td> 0.004713210</td><td>-0.000878522</td><td> 0.001303050</td><td>0.005902350</td><td> 0.000142281</td><td>-0.000459776</td><td> 3.68263e-03</td><td>TRUE</td></tr>\n",
       "\t<tr><td>203447090061_R01C01+203447090055_R06C02+203488000017_R04C02</td><td>0.04347917</td><td>0.2073584</td><td>0.4013380</td><td>43</td><td>17</td><td>203447090061_R01C01</td><td>203447090055_R06C02</td><td>203488000017_R04C02</td><td>FALSE</td><td>⋯</td><td> 0.001117340</td><td>-0.000974639</td><td> 0.000235214</td><td>-0.000194616</td><td> 0.001323850</td><td>0.004921680</td><td>-0.002111820</td><td>-0.001211640</td><td>-4.47393e-03</td><td>TRUE</td></tr>\n",
       "\t<tr><td>203096620121_R04C01+203096620121_R03C01+203124470025_R03C02</td><td>0.00000100</td><td>0.0936463</td><td>0.2742479</td><td>45</td><td>18</td><td>203096620121_R04C01</td><td>203096620121_R03C01</td><td>203124470025_R03C02</td><td>FALSE</td><td>⋯</td><td> 0.000775748</td><td>-0.000250537</td><td> 0.000822514</td><td> 0.001220700</td><td> 0.000631824</td><td>0.001921380</td><td> 0.000272966</td><td> 0.001097250</td><td>-8.55830e-04</td><td>TRUE</td></tr>\n",
       "\t<tr><td>203791440028_R05C01+203791440044_R06C01+204221260024_R02C02</td><td>0.06354602</td><td>0.2976593</td><td>0.5585283</td><td>22</td><td>18</td><td>203791440028_R05C01</td><td>203791440044_R06C01</td><td>204221260024_R02C02</td><td>FALSE</td><td>⋯</td><td>-0.002718150</td><td>-0.000152026</td><td>-0.001017450</td><td>-0.003533110</td><td> 0.003341910</td><td>0.005834630</td><td>-0.000393231</td><td>-0.003929130</td><td>-8.97747e-04</td><td>TRUE</td></tr>\n",
       "</tbody>\n",
       "</table>\n"
      ],
      "text/latex": [
       "A data.table: 6 × 39\n",
       "\\begin{tabular}{lllllllllllllllllllll}\n",
       " uid & lower\\_95\\_alpha\\_mat & mean\\_alpha\\_mat & upper\\_95\\_alpha\\_mat & nco\\_pass\\_mat & nchrom & mother & father & child & euploid & ⋯ & PC12 & PC13 & PC14 & PC15 & PC16 & PC17 & PC18 & PC19 & PC20 & is\\_aneuploid\\_embryo\\\\\n",
       " <chr> & <dbl> & <dbl> & <dbl> & <int> & <int> & <chr> & <chr> & <chr> & <lgl> & ⋯ & <dbl> & <dbl> & <dbl> & <dbl> & <dbl> & <dbl> & <dbl> & <dbl> & <dbl> & <lgl>\\\\\n",
       "\\hline\n",
       "\t 3998633005\\_R02C01+3998633005\\_R01C01+100954520028\\_R06C02     & 0.08026840 & 0.2374587 & 0.4180604 & 44 & 17 & 3998633005\\_R02C01   & 3998633005\\_R01C01   & 100954520028\\_R06C02 & FALSE & ⋯ & -0.004949370 &  0.000929288 & -0.001464710 & -0.008221480 & -0.004456550 & 0.000401423 &  0.002364590 & -0.005465880 & -4.33118e-03 & TRUE\\\\\n",
       "\t 101242990021\\_R04C01+101034430083\\_R03C01+200151560160\\_R03C01 & 0.13043552 & 0.3010037 & 0.4949833 & 37 & 17 & 101242990021\\_R04C01 & 101034430083\\_R03C01 & 200151560160\\_R03C01 & FALSE & ⋯ &  0.002070450 & -0.002240010 & -0.002090190 &  0.001140000 &  0.002727360 & 0.006968590 &  0.003143070 & -0.000807731 & -1.74894e-05 & TRUE\\\\\n",
       "\t 201672610194\\_R01C01+201672610194\\_R02C01+204572560004\\_R01C02 & 0.14715790 & 0.3979935 & 0.6454847 & 25 & 17 & 201672610194\\_R01C01 & 201672610194\\_R02C01 & 204572560004\\_R01C02 & FALSE & ⋯ & -0.008397750 & -0.015521900 &  0.004713210 & -0.000878522 &  0.001303050 & 0.005902350 &  0.000142281 & -0.000459776 &  3.68263e-03 & TRUE\\\\\n",
       "\t 203447090061\\_R01C01+203447090055\\_R06C02+203488000017\\_R04C02 & 0.04347917 & 0.2073584 & 0.4013380 & 43 & 17 & 203447090061\\_R01C01 & 203447090055\\_R06C02 & 203488000017\\_R04C02 & FALSE & ⋯ &  0.001117340 & -0.000974639 &  0.000235214 & -0.000194616 &  0.001323850 & 0.004921680 & -0.002111820 & -0.001211640 & -4.47393e-03 & TRUE\\\\\n",
       "\t 203096620121\\_R04C01+203096620121\\_R03C01+203124470025\\_R03C02 & 0.00000100 & 0.0936463 & 0.2742479 & 45 & 18 & 203096620121\\_R04C01 & 203096620121\\_R03C01 & 203124470025\\_R03C02 & FALSE & ⋯ &  0.000775748 & -0.000250537 &  0.000822514 &  0.001220700 &  0.000631824 & 0.001921380 &  0.000272966 &  0.001097250 & -8.55830e-04 & TRUE\\\\\n",
       "\t 203791440028\\_R05C01+203791440044\\_R06C01+204221260024\\_R02C02 & 0.06354602 & 0.2976593 & 0.5585283 & 22 & 18 & 203791440028\\_R05C01 & 203791440044\\_R06C01 & 204221260024\\_R02C02 & FALSE & ⋯ & -0.002718150 & -0.000152026 & -0.001017450 & -0.003533110 &  0.003341910 & 0.005834630 & -0.000393231 & -0.003929130 & -8.97747e-04 & TRUE\\\\\n",
       "\\end{tabular}\n"
      ],
      "text/markdown": [
       "\n",
       "A data.table: 6 × 39\n",
       "\n",
       "| uid &lt;chr&gt; | lower_95_alpha_mat &lt;dbl&gt; | mean_alpha_mat &lt;dbl&gt; | upper_95_alpha_mat &lt;dbl&gt; | nco_pass_mat &lt;int&gt; | nchrom &lt;int&gt; | mother &lt;chr&gt; | father &lt;chr&gt; | child &lt;chr&gt; | euploid &lt;lgl&gt; | ⋯ ⋯ | PC12 &lt;dbl&gt; | PC13 &lt;dbl&gt; | PC14 &lt;dbl&gt; | PC15 &lt;dbl&gt; | PC16 &lt;dbl&gt; | PC17 &lt;dbl&gt; | PC18 &lt;dbl&gt; | PC19 &lt;dbl&gt; | PC20 &lt;dbl&gt; | is_aneuploid_embryo &lt;lgl&gt; |\n",
       "|---|---|---|---|---|---|---|---|---|---|---|---|---|---|---|---|---|---|---|---|---|\n",
       "| 3998633005_R02C01+3998633005_R01C01+100954520028_R06C02     | 0.08026840 | 0.2374587 | 0.4180604 | 44 | 17 | 3998633005_R02C01   | 3998633005_R01C01   | 100954520028_R06C02 | FALSE | ⋯ | -0.004949370 |  0.000929288 | -0.001464710 | -0.008221480 | -0.004456550 | 0.000401423 |  0.002364590 | -0.005465880 | -4.33118e-03 | TRUE |\n",
       "| 101242990021_R04C01+101034430083_R03C01+200151560160_R03C01 | 0.13043552 | 0.3010037 | 0.4949833 | 37 | 17 | 101242990021_R04C01 | 101034430083_R03C01 | 200151560160_R03C01 | FALSE | ⋯ |  0.002070450 | -0.002240010 | -0.002090190 |  0.001140000 |  0.002727360 | 0.006968590 |  0.003143070 | -0.000807731 | -1.74894e-05 | TRUE |\n",
       "| 201672610194_R01C01+201672610194_R02C01+204572560004_R01C02 | 0.14715790 | 0.3979935 | 0.6454847 | 25 | 17 | 201672610194_R01C01 | 201672610194_R02C01 | 204572560004_R01C02 | FALSE | ⋯ | -0.008397750 | -0.015521900 |  0.004713210 | -0.000878522 |  0.001303050 | 0.005902350 |  0.000142281 | -0.000459776 |  3.68263e-03 | TRUE |\n",
       "| 203447090061_R01C01+203447090055_R06C02+203488000017_R04C02 | 0.04347917 | 0.2073584 | 0.4013380 | 43 | 17 | 203447090061_R01C01 | 203447090055_R06C02 | 203488000017_R04C02 | FALSE | ⋯ |  0.001117340 | -0.000974639 |  0.000235214 | -0.000194616 |  0.001323850 | 0.004921680 | -0.002111820 | -0.001211640 | -4.47393e-03 | TRUE |\n",
       "| 203096620121_R04C01+203096620121_R03C01+203124470025_R03C02 | 0.00000100 | 0.0936463 | 0.2742479 | 45 | 18 | 203096620121_R04C01 | 203096620121_R03C01 | 203124470025_R03C02 | FALSE | ⋯ |  0.000775748 | -0.000250537 |  0.000822514 |  0.001220700 |  0.000631824 | 0.001921380 |  0.000272966 |  0.001097250 | -8.55830e-04 | TRUE |\n",
       "| 203791440028_R05C01+203791440044_R06C01+204221260024_R02C02 | 0.06354602 | 0.2976593 | 0.5585283 | 22 | 18 | 203791440028_R05C01 | 203791440044_R06C01 | 204221260024_R02C02 | FALSE | ⋯ | -0.002718150 | -0.000152026 | -0.001017450 | -0.003533110 |  0.003341910 | 0.005834630 | -0.000393231 | -0.003929130 | -8.97747e-04 | TRUE |\n",
       "\n"
      ],
      "text/plain": [
       "  uid                                                        \n",
       "1 3998633005_R02C01+3998633005_R01C01+100954520028_R06C02    \n",
       "2 101242990021_R04C01+101034430083_R03C01+200151560160_R03C01\n",
       "3 201672610194_R01C01+201672610194_R02C01+204572560004_R01C02\n",
       "4 203447090061_R01C01+203447090055_R06C02+203488000017_R04C02\n",
       "5 203096620121_R04C01+203096620121_R03C01+203124470025_R03C02\n",
       "6 203791440028_R05C01+203791440044_R06C01+204221260024_R02C02\n",
       "  lower_95_alpha_mat mean_alpha_mat upper_95_alpha_mat nco_pass_mat nchrom\n",
       "1 0.08026840         0.2374587      0.4180604          44           17    \n",
       "2 0.13043552         0.3010037      0.4949833          37           17    \n",
       "3 0.14715790         0.3979935      0.6454847          25           17    \n",
       "4 0.04347917         0.2073584      0.4013380          43           17    \n",
       "5 0.00000100         0.0936463      0.2742479          45           18    \n",
       "6 0.06354602         0.2976593      0.5585283          22           18    \n",
       "  mother              father              child               euploid ⋯\n",
       "1 3998633005_R02C01   3998633005_R01C01   100954520028_R06C02 FALSE   ⋯\n",
       "2 101242990021_R04C01 101034430083_R03C01 200151560160_R03C01 FALSE   ⋯\n",
       "3 201672610194_R01C01 201672610194_R02C01 204572560004_R01C02 FALSE   ⋯\n",
       "4 203447090061_R01C01 203447090055_R06C02 203488000017_R04C02 FALSE   ⋯\n",
       "5 203096620121_R04C01 203096620121_R03C01 203124470025_R03C02 FALSE   ⋯\n",
       "6 203791440028_R05C01 203791440044_R06C01 204221260024_R02C02 FALSE   ⋯\n",
       "  PC12         PC13         PC14         PC15         PC16         PC17       \n",
       "1 -0.004949370  0.000929288 -0.001464710 -0.008221480 -0.004456550 0.000401423\n",
       "2  0.002070450 -0.002240010 -0.002090190  0.001140000  0.002727360 0.006968590\n",
       "3 -0.008397750 -0.015521900  0.004713210 -0.000878522  0.001303050 0.005902350\n",
       "4  0.001117340 -0.000974639  0.000235214 -0.000194616  0.001323850 0.004921680\n",
       "5  0.000775748 -0.000250537  0.000822514  0.001220700  0.000631824 0.001921380\n",
       "6 -0.002718150 -0.000152026 -0.001017450 -0.003533110  0.003341910 0.005834630\n",
       "  PC18         PC19         PC20         is_aneuploid_embryo\n",
       "1  0.002364590 -0.005465880 -4.33118e-03 TRUE               \n",
       "2  0.003143070 -0.000807731 -1.74894e-05 TRUE               \n",
       "3  0.000142281 -0.000459776  3.68263e-03 TRUE               \n",
       "4 -0.002111820 -0.001211640 -4.47393e-03 TRUE               \n",
       "5  0.000272966  0.001097250 -8.55830e-04 TRUE               \n",
       "6 -0.000393231 -0.003929130 -8.97747e-04 TRUE               "
      ]
     },
     "metadata": {},
     "output_type": "display_data"
    }
   ],
   "source": [
    "tail(df)"
   ]
  },
  {
   "cell_type": "code",
   "execution_count": 4,
   "id": "14ee2193-ddaa-44c4-b1fa-a47829c33b51",
   "metadata": {},
   "outputs": [
    {
     "data": {
      "text/html": [
       "<table class=\"dataframe\">\n",
       "<caption>A tibble: 2 × 6</caption>\n",
       "<thead>\n",
       "\t<tr><th scope=col>maternal_meiotic_aneuploidy</th><th scope=col>avg</th><th scope=col>median</th><th scope=col>n</th><th scope=col>sd</th><th scope=col>se</th></tr>\n",
       "\t<tr><th scope=col>&lt;lgl&gt;</th><th scope=col>&lt;dbl&gt;</th><th scope=col>&lt;dbl&gt;</th><th scope=col>&lt;int&gt;</th><th scope=col>&lt;dbl&gt;</th><th scope=col>&lt;dbl&gt;</th></tr>\n",
       "</thead>\n",
       "<tbody>\n",
       "\t<tr><td>FALSE</td><td>0.2404669</td><td>0.2374587</td><td>547</td><td>0.1288203</td><td>0.005507957</td></tr>\n",
       "\t<tr><td> TRUE</td><td>0.2232527</td><td>0.2107029</td><td>105</td><td>0.1314487</td><td>0.012828084</td></tr>\n",
       "</tbody>\n",
       "</table>\n"
      ],
      "text/latex": [
       "A tibble: 2 × 6\n",
       "\\begin{tabular}{llllll}\n",
       " maternal\\_meiotic\\_aneuploidy & avg & median & n & sd & se\\\\\n",
       " <lgl> & <dbl> & <dbl> & <int> & <dbl> & <dbl>\\\\\n",
       "\\hline\n",
       "\t FALSE & 0.2404669 & 0.2374587 & 547 & 0.1288203 & 0.005507957\\\\\n",
       "\t  TRUE & 0.2232527 & 0.2107029 & 105 & 0.1314487 & 0.012828084\\\\\n",
       "\\end{tabular}\n"
      ],
      "text/markdown": [
       "\n",
       "A tibble: 2 × 6\n",
       "\n",
       "| maternal_meiotic_aneuploidy &lt;lgl&gt; | avg &lt;dbl&gt; | median &lt;dbl&gt; | n &lt;int&gt; | sd &lt;dbl&gt; | se &lt;dbl&gt; |\n",
       "|---|---|---|---|---|---|\n",
       "| FALSE | 0.2404669 | 0.2374587 | 547 | 0.1288203 | 0.005507957 |\n",
       "|  TRUE | 0.2232527 | 0.2107029 | 105 | 0.1314487 | 0.012828084 |\n",
       "\n"
      ],
      "text/plain": [
       "  maternal_meiotic_aneuploidy avg       median    n   sd        se         \n",
       "1 FALSE                       0.2404669 0.2374587 547 0.1288203 0.005507957\n",
       "2  TRUE                       0.2232527 0.2107029 105 0.1314487 0.012828084"
      ]
     },
     "metadata": {},
     "output_type": "display_data"
    }
   ],
   "source": [
    "# Compute the total groupwide mean \n",
    "df %>% group_by(maternal_meiotic_aneuploidy) %>% summarize(avg=mean(mean_alpha_mat), median=median(mean_alpha_mat), n=n(), sd=sd(mean_alpha_mat), se=sd/sqrt(n))"
   ]
  },
  {
   "cell_type": "code",
   "execution_count": 5,
   "id": "606308a7-46e5-45d3-93f5-cbf296c6a7a7",
   "metadata": {},
   "outputs": [
    {
     "name": "stderr",
     "output_type": "stream",
     "text": [
      "boundary (singular) fit: see help('isSingular')\n",
      "\n",
      "\n",
      "Correlation matrix not shown by default, as p = 28 > 12.\n",
      "Use print(obj, correlation=TRUE)  or\n",
      "    vcov(obj)        if you need it\n",
      "\n",
      "\n"
     ]
    },
    {
     "data": {
      "text/plain": [
       "Generalized linear mixed model fit by maximum likelihood (Adaptive\n",
       "  Gauss-Hermite Quadrature, nAGQ = 0) [glmerMod]\n",
       " Family: Gamma  ( log )\n",
       "Formula: mean_alpha_mat ~ (1 | IID) + scale(nco_pass_mat) + scale(Age) +  \n",
       "    PC1 + PC2 + PC3 + PC4 + PC5 + PC6 + PC7 + PC8 + PC9 + PC10 +  \n",
       "    PC11 + PC12 + PC13 + PC14 + PC15 + PC16 + PC17 + PC18 + PC19 +  \n",
       "    PC20 + nchrom + scale(AVGSIGMA) + scale(AVGPI0) + scale(NEMBRYO) +  \n",
       "    maternal_meiotic_aneuploidy\n",
       "   Data: df\n",
       "Control: glmerControl(optimizer = \"bobyqa\")\n",
       "\n",
       "     AIC      BIC   logLik deviance df.resid \n",
       "  -549.8   -415.7    304.9   -609.8      616 \n",
       "\n",
       "Scaled residuals: \n",
       "    Min      1Q  Median      3Q     Max \n",
       "-1.9563 -0.7462  0.0032  0.7275  3.5275 \n",
       "\n",
       "Random effects:\n",
       " Groups   Name        Variance Std.Dev.\n",
       " IID      (Intercept) 0.0000   0.0000  \n",
       " Residual             0.2613   0.5112  \n",
       "Number of obs: 646, groups:  IID, 535\n",
       "\n",
       "Fixed effects:\n",
       "                                  Estimate Std. Error t value Pr(>|z|)    \n",
       "(Intercept)                      -1.251966   0.445585  -2.810  0.00496 ** \n",
       "scale(nco_pass_mat)              -0.064359   0.027136  -2.372  0.01771 *  \n",
       "scale(Age)                       -0.009388   0.021181  -0.443  0.65760    \n",
       "PC1                              15.719055   5.159243   3.047  0.00231 ** \n",
       "PC2                              12.115058   2.627502   4.611 4.01e-06 ***\n",
       "PC3                              -6.305452   4.323132  -1.459  0.14469    \n",
       "PC4                              -3.009623   4.070874  -0.739  0.45972    \n",
       "PC5                              15.384460   7.818080   1.968  0.04909 *  \n",
       "PC6                               2.092500   4.027823   0.520  0.60340    \n",
       "PC7                              -0.151182   4.513276  -0.033  0.97328    \n",
       "PC8                              -4.518288   4.905662  -0.921  0.35703    \n",
       "PC9                              10.601886   6.027762   1.759  0.07860 .  \n",
       "PC10                             -5.744137   4.296893  -1.337  0.18128    \n",
       "PC11                             -5.300897   4.347252  -1.219  0.22270    \n",
       "PC12                              3.153668   6.176712   0.511  0.60965    \n",
       "PC13                             -7.186537   5.969133  -1.204  0.22861    \n",
       "PC14                             -3.043505   5.086007  -0.598  0.54957    \n",
       "PC15                              4.494927   4.756663   0.945  0.34467    \n",
       "PC16                             -8.132498   5.488977  -1.482  0.13845    \n",
       "PC17                              8.664003   7.070422   1.225  0.22043    \n",
       "PC18                            -27.451729  14.163262  -1.938  0.05259 .  \n",
       "PC19                             -0.092643   4.546423  -0.020  0.98374    \n",
       "PC20                              8.170190   5.565690   1.468  0.14212    \n",
       "nchrom                           -0.005430   0.025259  -0.215  0.82977    \n",
       "scale(AVGSIGMA)                  -0.095938   0.023839  -4.024 5.71e-05 ***\n",
       "scale(AVGPI0)                     0.038551   0.023292   1.655  0.09790 .  \n",
       "scale(NEMBRYO)                   -0.001444   0.022664  -0.064  0.94921    \n",
       "maternal_meiotic_aneuploidyTRUE  -0.028114   0.057996  -0.485  0.62785    \n",
       "---\n",
       "Signif. codes:  0 ‘***’ 0.001 ‘**’ 0.01 ‘*’ 0.05 ‘.’ 0.1 ‘ ’ 1\n",
       "optimizer (bobyqa) convergence code: 0 (OK)\n",
       "boundary (singular) fit: see help('isSingular')\n"
      ]
     },
     "metadata": {},
     "output_type": "display_data"
    }
   ],
   "source": [
    "# fit model\n",
    "m1 <- glmer(data = df, \n",
    "            formula = mean_alpha_mat ~ (1 | IID) + scale(nco_pass_mat) + scale(Age) + PC1 + PC2 + PC3 + PC4 + PC5 + \n",
    "              PC6 + PC7 + PC8 + PC9 + PC10 + PC11 + PC12 + PC13 + PC14 + PC15 + PC16 + PC17 +\n",
    "              PC18 + PC19 + PC20 + nchrom + scale(AVGSIGMA) + scale(AVGPI0) + scale(NEMBRYO) + maternal_meiotic_aneuploidy,\n",
    "            family=Gamma(link = \"log\"),\n",
    "            nAGQ = 0,\n",
    "            control = glmerControl(optimizer = \"bobyqa\"))\n",
    "summary(m1)"
   ]
  },
  {
   "cell_type": "code",
   "execution_count": 6,
   "id": "4a2665c5-a15c-4e89-924f-4b6d9444d4c1",
   "metadata": {},
   "outputs": [
    {
     "data": {
      "text/plain": [
       " maternal_meiotic_aneuploidy response      SE  df asymp.LCL asymp.UCL\n",
       " FALSE                          0.231 0.00513 Inf     0.221     0.242\n",
       "  TRUE                          0.225 0.01184 Inf     0.203     0.249\n",
       "\n",
       "Confidence level used: 0.95 \n",
       "Intervals are back-transformed from the log scale "
      ]
     },
     "metadata": {},
     "output_type": "display_data"
    }
   ],
   "source": [
    "emmeans(m1, \"maternal_meiotic_aneuploidy\", type = \"response\")"
   ]
  },
  {
   "cell_type": "code",
   "execution_count": 7,
   "id": "ac0bf560-92fa-4845-b4f9-49a2b9c90a7f",
   "metadata": {},
   "outputs": [
    {
     "name": "stderr",
     "output_type": "stream",
     "text": [
      "boundary (singular) fit: see help('isSingular')\n",
      "\n",
      "\n",
      "Correlation matrix not shown by default, as p = 26 > 12.\n",
      "Use print(obj, correlation=TRUE)  or\n",
      "    vcov(obj)        if you need it\n",
      "\n",
      "\n"
     ]
    },
    {
     "data": {
      "text/plain": [
       "Generalized linear mixed model fit by maximum likelihood (Adaptive\n",
       "  Gauss-Hermite Quadrature, nAGQ = 0) [glmerMod]\n",
       " Family: Gamma  ( log )\n",
       "Formula: mean_alpha_mat ~ (1 | IID) + scale(Age) + PC1 + PC2 + PC3 + PC4 +  \n",
       "    PC5 + PC6 + PC7 + PC8 + PC9 + PC10 + PC11 + PC12 + PC13 +  \n",
       "    PC14 + PC15 + PC16 + PC17 + PC18 + PC19 + PC20 + scale(AVGSIGMA) +  \n",
       "    scale(AVGPI0) + scale(NEMBRYO) + maternal_meiotic_aneuploidy\n",
       "   Data: df\n",
       "Control: glmerControl(optimizer = \"bobyqa\")\n",
       "\n",
       "     AIC      BIC   logLik deviance df.resid \n",
       "  -551.6   -426.4    303.8   -607.6      618 \n",
       "\n",
       "Scaled residuals: \n",
       "    Min      1Q  Median      3Q     Max \n",
       "-1.9268 -0.7195  0.0151  0.6894  3.7864 \n",
       "\n",
       "Random effects:\n",
       " Groups   Name        Variance Std.Dev.\n",
       " IID      (Intercept) 0.0000   0.000   \n",
       " Residual             0.2694   0.519   \n",
       "Number of obs: 646, groups:  IID, 535\n",
       "\n",
       "Fixed effects:\n",
       "                                  Estimate Std. Error t value Pr(>|z|)    \n",
       "(Intercept)                      -1.326675   0.030511 -43.482  < 2e-16 ***\n",
       "scale(Age)                       -0.013305   0.021440  -0.621 0.534880    \n",
       "PC1                              18.123273   5.170772   3.505 0.000457 ***\n",
       "PC2                              12.944794   2.647325   4.890 1.01e-06 ***\n",
       "PC3                              -6.594866   4.372840  -1.508 0.131518    \n",
       "PC4                              -0.783556   4.040113  -0.194 0.846220    \n",
       "PC5                              14.509933   7.923666   1.831 0.067069 .  \n",
       "PC6                               1.552187   4.086723   0.380 0.704085    \n",
       "PC7                               0.081436   4.581891   0.018 0.985820    \n",
       "PC8                              -3.106602   4.943166  -0.628 0.529700    \n",
       "PC9                              12.808652   6.074954   2.108 0.034993 *  \n",
       "PC10                             -6.437463   4.348497  -1.480 0.138770    \n",
       "PC11                             -5.822195   4.411604  -1.320 0.186920    \n",
       "PC12                              2.309110   6.262955   0.369 0.712356    \n",
       "PC13                             -8.234266   6.053268  -1.360 0.173735    \n",
       "PC14                             -2.572754   5.163544  -0.498 0.618305    \n",
       "PC15                              4.064697   4.826040   0.842 0.399652    \n",
       "PC16                             -8.465210   5.564898  -1.521 0.128215    \n",
       "PC17                              8.365371   7.174104   1.166 0.243594    \n",
       "PC18                            -29.855167  14.363418  -2.079 0.037658 *  \n",
       "PC19                             -0.475835   4.600861  -0.103 0.917627    \n",
       "PC20                              9.103684   5.643945   1.613 0.106744    \n",
       "scale(AVGSIGMA)                  -0.114752   0.022937  -5.003 5.65e-07 ***\n",
       "scale(AVGPI0)                     0.055434   0.022663   2.446 0.014447 *  \n",
       "scale(NEMBRYO)                    0.009205   0.022711   0.405 0.685247    \n",
       "maternal_meiotic_aneuploidyTRUE  -0.026587   0.058649  -0.453 0.650317    \n",
       "---\n",
       "Signif. codes:  0 ‘***’ 0.001 ‘**’ 0.01 ‘*’ 0.05 ‘.’ 0.1 ‘ ’ 1\n",
       "optimizer (bobyqa) convergence code: 0 (OK)\n",
       "boundary (singular) fit: see help('isSingular')\n"
      ]
     },
     "metadata": {},
     "output_type": "display_data"
    }
   ],
   "source": [
    "# fit model without nco and nchrom covariates ... \n",
    "m2 <- glmer(data = df, \n",
    "            formula = mean_alpha_mat ~ (1 | IID) + scale(Age) + PC1 + PC2 + PC3 + PC4 + PC5 + \n",
    "              PC6 + PC7 + PC8 + PC9 + PC10 + PC11 + PC12 + PC13 + PC14 + PC15 + PC16 + PC17 +\n",
    "              PC18 + PC19 + PC20 + scale(AVGSIGMA) + scale(AVGPI0) + scale(NEMBRYO) + maternal_meiotic_aneuploidy,\n",
    "            family=Gamma(link = \"log\"),\n",
    "            nAGQ = 0,\n",
    "            control = glmerControl(optimizer = \"bobyqa\"))\n",
    "summary(m2)"
   ]
  },
  {
   "cell_type": "code",
   "execution_count": 8,
   "id": "824cd4c4-4516-4800-881e-72a148222373",
   "metadata": {},
   "outputs": [
    {
     "data": {
      "text/plain": [
       " maternal_meiotic_aneuploidy response      SE  df asymp.LCL asymp.UCL\n",
       " FALSE                          0.232 0.00521 Inf     0.222     0.242\n",
       "  TRUE                          0.226 0.01201 Inf     0.203     0.250\n",
       "\n",
       "Confidence level used: 0.95 \n",
       "Intervals are back-transformed from the log scale "
      ]
     },
     "metadata": {},
     "output_type": "display_data"
    }
   ],
   "source": [
    "emmeans(m2, \"maternal_meiotic_aneuploidy\", type = \"response\")"
   ]
  }
 ],
 "metadata": {
  "kernelspec": {
   "display_name": "R",
   "language": "R",
   "name": "ir"
  },
  "language_info": {
   "codemirror_mode": "r",
   "file_extension": ".r",
   "mimetype": "text/x-r-source",
   "name": "R",
   "pygments_lexer": "r",
   "version": "4.4.1"
  }
 },
 "nbformat": 4,
 "nbformat_minor": 5
}
